{
  "nbformat": 4,
  "nbformat_minor": 0,
  "metadata": {
    "colab": {
      "provenance": []
    },
    "kernelspec": {
      "name": "python3",
      "display_name": "Python 3"
    },
    "language_info": {
      "name": "python"
    }
  },
  "cells": [
    {
      "cell_type": "code",
      "execution_count": 18,
      "metadata": {
        "colab": {
          "base_uri": "https://localhost:8080/"
        },
        "id": "W5R95UIxYkhk",
        "outputId": "63cc56cb-d298-4a2d-9ff2-a621b185915d"
      },
      "outputs": [
        {
          "output_type": "stream",
          "name": "stdout",
          "text": [
            "               Termino                                   ¿Que se?  \\\n",
            "0  -------------------  -----------------------------------------   \n",
            "1          Estadistica                    Es un conjunto de datos   \n",
            "2                Datos                   Informacion Estructurada   \n",
            "3  Teoria de conjuntos       Estudia las propiedades y relaciones   \n",
            "4              Axiomas  Define las Caracteristicas de un conjunto   \n",
            "5         Probabilidad       Estudia el comportamiento de eventos   \n",
            "6              Eventos                   Informacion estructurada   \n",
            "\n",
            "                              ¿Que deseo saber?   ¿Que Aprendi?  \n",
            "0  --------------------------------------------  --------------  \n",
            "1  Aprender en que se utiliza y como se utiliza              --  \n",
            "2          Saber como utilizarlos correctamente              --  \n",
            "3                    Como utilizarlo y en donde              --  \n",
            "4              Saber que es y para que funciona              --  \n",
            "5             Como utilizarlo de forma correcta              --  \n",
            "6         Aprender a utilizar de forma correcta              --  \n"
          ]
        }
      ],
      "source": [
        "import pandas as pd\n",
        "datos = pd.DataFrame({ \"Termino\":  [\"-------------------\", \"Estadistica\", \"Datos\", \"Teoria de conjuntos\", \"Axiomas\", \"Probabilidad\", \"Eventos\"], \"¿Que se?\": [\"-----------------------------------------\", \"Es un conjunto de datos\", \"Informacion Estructurada\", \"Estudia las propiedades y relaciones\", \"Define las Caracteristicas de un conjunto\", \"Estudia el comportamiento de eventos\", \"Informacion estructurada\"], \"¿Que deseo saber?\": [\"--------------------------------------------\", \"Aprender en que se utiliza y como se utiliza\", \"Saber como utilizarlos correctamente\", \"Como utilizarlo y en donde\", \"Saber que es y para que funciona\", \"Como utilizarlo de forma correcta\", \"Aprender a utilizar de forma correcta\"],  \"¿Que Aprendi?\": [\"--------------\", \"--\", \"--\", \"--\", \"--\", \"--\", \"--\"]})\n",
        "print(datos)"
      ]
    }
  ]
}